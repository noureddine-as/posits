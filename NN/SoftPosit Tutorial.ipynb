{
 "cells": [
  {
   "cell_type": "markdown",
   "metadata": {},
   "source": [
    "<img src=\"https://posithub.org/images/NGA_logo.png\" title=\"Next Generation Arithmetic Logo\" width=\"200\" height=\"400\" />\n",
    "<img src=\"https://posithub.org/images/NGA_logo.png\" title=\"Next Generation Arithmetic Logo\" width=\"200\" />\n",
    "\n",
    "## Introduction to SoftPosit\n",
    "SoftPosit (C/C++): <https://gitlab.com/cerlane/SoftPosit>\n",
    "\n",
    "SoftPosit-Python: <https://gitlab.com/cerlane/SoftPosit-Python>\n",
    "\n",
    "SoftFloat-Python: <https://gitlab.com/cerlane/SoftFloat-Python>\n",
    "\n",
    "More information: <https://posithub.org>\n",
    "\n",
    "Questions: contact@posithub.org\n",
    "\n",
    "Prepared by: LEONG Siew Hoon (Cerlane)\n",
    "\n",
    "Date: 31 Aug 2018\n",
    "\n",
    "## Introduction to Posits using SoftPosit-Python\n",
    "### Installation\n",
    "\n",
    "`pip install softposit --user`"
   ]
  },
  {
   "cell_type": "markdown",
   "metadata": {},
   "source": [
    "### Part 1:\n",
    "#### Importing SoftPosit library"
   ]
  },
  {
   "cell_type": "code",
   "execution_count": 2,
   "metadata": {},
   "outputs": [],
   "source": [
    "import softposit as sp"
   ]
  },
  {
   "cell_type": "markdown",
   "metadata": {},
   "source": [
    "In order to faciliate the comparison between Posits and Floats, please also install SoftFloat-Python.\n",
    "\n",
    "#### Installation\n",
    "\n",
    "`pip install softfloat --user`\n",
    "\n",
    "#### Importing SoftFloat library"
   ]
  },
  {
   "cell_type": "code",
   "execution_count": 2,
   "metadata": {},
   "outputs": [],
   "source": [
    "import softfloat as sf"
   ]
  },
  {
   "cell_type": "markdown",
   "metadata": {},
   "source": [
    "#### 1. Posit Types\n",
    "\n",
    "The 3 recommended posit types are\n",
    "\n",
    "| Type    | Posit Size (ps) | Exponent Size (es) | Precisions         |\n",
    "|---------|-----------------|--------------------|--------------------|\n",
    "| posit8  | 8 bits          | 0 bits             | ~3 decimal digits  |\n",
    "| posit16 | 16 bits         | 1 bits             | ~5 decimal digits  |\n",
    "| posit32 | 32 bits         | 2 bits             | ~10 decimal digits |\n",
    "| posit_2 | x bits          | 2 bits             | ~?? decimal digits |\n",
    "\n",
    "There are two ways to set the values of a posit type.\n",
    "\n",
    "(1) Assign decimal values in integers or floats to a posit variable. In event that there is no exact value to represent that value for the particular ps and es, the value will be rounded.\n",
    "\n",
    "(2) Set the actual bits of the posit using decimal values in integers.\n",
    "\n",
    "**Note:** Posits have only one rounding mode, i.e. round to nearest even bit (Banker's rounding).\n"
   ]
  },
  {
   "cell_type": "code",
   "execution_count": 6,
   "metadata": {
    "scrolled": true
   },
   "outputs": [
    {
     "name": "stdout",
     "output_type": "stream",
     "text": [
      "Posit8: 0.296875\n",
      "\u001b[1;37;41m0\u001b[0m\u001b[1;30;43m001\u001b[0m\u001b[1;37;40m0011\u001b[0m\n",
      "\n",
      "Posit16: 0.29998779296875\n",
      "\u001b[1;37;41m0\u001b[0m\u001b[1;30;43m01\u001b[0m\u001b[1;37;44m0\u001b[0m\u001b[1;37;40m0011 00110011\u001b[0m\n",
      "\n",
      "Posit32: 0.30000000074505806\n",
      "\u001b[1;37;41m0\u001b[0m\u001b[1;30;43m01\u001b[0m\u001b[1;37;44m10\u001b[0m\u001b[1;37;40m001 10011001 10011001 10011010\u001b[0m\n",
      "\n",
      "Posit_2 (5 bits): 0.25\n",
      "\u001b[1;37;41m0\u001b[0m\u001b[1;30;43m01\u001b[0m\u001b[1;37;44m10\u001b[0m\u001b[0m\n"
     ]
    }
   ],
   "source": [
    "#Different Standard Posit Types\n",
    "p8=sp.posit8(0.3)\n",
    "print(\"Posit8:\", p8)\n",
    "p8.toBinaryFormatted()\n",
    "\n",
    "p16=sp.posit16(0.3)\n",
    "print(\"\\nPosit16:\", p16)\n",
    "p16.toBinaryFormatted()\n",
    "\n",
    "p32=sp.posit32(0.3)\n",
    "print(\"\\nPosit32:\", p32)\n",
    "p32.toBinaryFormatted()\n",
    "\n",
    "p_2=sp.posit_2(0.3, 5)\n",
    "print(\"\\nPosit_2 (5 bits):\", p_2)\n",
    "p_2.toBinaryFormatted()"
   ]
  },
  {
   "cell_type": "code",
   "execution_count": 4,
   "metadata": {},
   "outputs": [
    {
     "name": "stdout",
     "output_type": "stream",
     "text": [
      "Using Integers:\n",
      "\u001b[1;37;41m0\u001b[0m\u001b[1;30;43m00001\u001b[0m\u001b[1;37;40m10\u001b[0m\n",
      "\n",
      "Using Hex:\n",
      "\u001b[1;37;41m0\u001b[0m\u001b[1;30;43m00001\u001b[0m\u001b[1;37;40m10\u001b[0m\n",
      "\n",
      "Using Binary String:\n",
      "\u001b[1;37;41m1\u001b[0m\u001b[1;30;43m01\u001b[0m\u001b[1;37;40m10011\u001b[0m\n"
     ]
    }
   ],
   "source": [
    "#Assign values by bits\n",
    "\n",
    "print('Using Integers:')\n",
    "p8.fromBits(6)\n",
    "p8.toBinaryFormatted()\n",
    "\n",
    "\n",
    "print('\\nUsing Hex:')\n",
    "p8.fromBits(6)\n",
    "p8.toBinaryFormatted()\n",
    "\n",
    "print('\\nUsing Binary String:')\n",
    "p8.fromBits(int(\"10110011\", 2))\n",
    "p8.toBinaryFormatted()"
   ]
  },
  {
   "cell_type": "code",
   "execution_count": 5,
   "metadata": {},
   "outputs": [
    {
     "name": "stdout",
     "output_type": "stream",
     "text": [
      "p8 type: posit8 \n",
      "\n",
      "p16 type: posit16 \n",
      "\n",
      "p32 type: posit32 \n",
      "\n"
     ]
    }
   ],
   "source": [
    "# Checking  Posit types\n",
    "\n",
    "print(\"p8 type:\", p8.type(), \"\\n\")\n",
    "\n",
    "print(\"p16 type:\", p16.type(), \"\\n\")\n",
    "\n",
    "print(\"p32 type:\", p32.type(), \"\\n\")"
   ]
  },
  {
   "cell_type": "markdown",
   "metadata": {},
   "source": [
    "#### 2. Posit Format and 754 Float format\n",
    "\n",
    "<table class=\"tg\">\n",
    "  <tr>\n",
    "    <th class=\"tg-fymr\">Bit Type</th>\n",
    "    <th class=\"tg-fymr\">Posit</th>\n",
    "    <th class=\"tg-fymr\">Float</th>\n",
    "  </tr>\n",
    "  <tr>\n",
    "    <td class=\"tg-xgic\" style=\"background-color:red; color:white\">Sign bit</td>\n",
    "    <td class=\"tg-0pky\">Yes (1-bit)</td>\n",
    "    <td class=\"tg-0pky\">Yes (1-bit)</td>\n",
    "  </tr>\n",
    "  <tr>\n",
    "    <td class=\"tg-pzl3\" style=\"background-color:#cb9a34;\">Regime bits</td>\n",
    "    <td class=\"tg-0pky\"><br>Yes<br>(1 to (ps-1) bits)</td>\n",
    "    <td class=\"tg-0pky\">No</td>\n",
    "  </tr>\n",
    "  <tr>\n",
    "    <td class=\"tg-tcj5\" style=\"background-color:#4483fb;\">Exponent bits</td>\n",
    "    <td class=\"tg-0pky\"><br>Yes/No<br>Depending on posit type and regime length<br>Predeterminded (fixed) length</td>\n",
    "    <td class=\"tg-0pky\">Yes<br>Depending on float (16/32/64) type<br>Predetermined (fixed) length</td>\n",
    "  </tr>\n",
    "  <tr>\n",
    "    <td class=\"tg-syad\" style=\"background-color:black; color:white\">Fraction bits</td>\n",
    "    <td class=\"tg-0pky\">Yes/No<br>Depending on regime length<br>Dynamic length</td>\n",
    "    <td class=\"tg-0pky\">Yes<br>Depending on float (16/32/64) type<br>Predetermined (fixed) length</td>\n",
    "  </tr>\n",
    "</table>\n",
    "\n",
    "#### _2.1. Sign_\n",
    "\n",
    "Negating a posit is similar to negating an integer value, i.e. Performing a Two's complement. This is different from IEEE 754 Float where negating a float involves inverting only the sign bit.\n",
    "#### _2.1.1. Posit (16-bit Posit, es=1)_\n",
    "\n",
    "The nearest value to ± 0.3 for Posit16:"
   ]
  },
  {
   "cell_type": "code",
   "execution_count": 6,
   "metadata": {},
   "outputs": [
    {
     "name": "stdout",
     "output_type": "stream",
     "text": [
      "For a value of 0.29998779296875 :\n",
      "\u001b[1;37;41m0\u001b[0m\u001b[1;30;43m01\u001b[0m\u001b[1;37;44m0\u001b[0m\u001b[1;37;40m0011 00110011\u001b[0m\n",
      "\n",
      "For a value of -0.29998779296875 :\n",
      "\u001b[1;37;41m1\u001b[0m\u001b[1;30;43m10\u001b[0m\u001b[1;37;44m1\u001b[0m\u001b[1;37;40m1100 11001101\u001b[0m\n"
     ]
    }
   ],
   "source": [
    "#Sign bit: positive and negative posits\n",
    "p16=sp.posit16(0.3)\n",
    "print(\"For a value of\", p16, \":\")\n",
    "p16.toBinaryFormatted()\n",
    "\n",
    "print(\"\\nFor a value of\", -p16, \":\")\n",
    "(-p16).toBinaryFormatted()"
   ]
  },
  {
   "cell_type": "markdown",
   "metadata": {},
   "source": [
    "#### _2.1.2. IEEE Float 754 (16-bit Float)_\n",
    "\n",
    "The nearest value to ± 0.3 for Float16:\n"
   ]
  },
  {
   "cell_type": "code",
   "execution_count": 7,
   "metadata": {},
   "outputs": [
    {
     "name": "stdout",
     "output_type": "stream",
     "text": [
      "For a value of 0.300048828125 :\n",
      "\u001b[1;37;41m0\u001b[0m\u001b[1;37;44m01101\u001b[0m\u001b[1;37;40m00 11001101\u001b[0m\n",
      "\n",
      "For a value of -0.300048828125 :\n",
      "\u001b[1;37;41m1\u001b[0m\u001b[1;37;44m01101\u001b[0m\u001b[1;37;40m00 11001101\u001b[0m\n"
     ]
    }
   ],
   "source": [
    "#Sign bit: positive and negative posits\n",
    "f16=sf.float16(0.3)\n",
    "print(\"For a value of\", f16, \":\")\n",
    "f16.toBinaryFormatted()\n",
    "\n",
    "print(\"\\nFor a value of\", -f16, \":\")\n",
    "(-f16).toBinaryFormatted()"
   ]
  },
  {
   "cell_type": "markdown",
   "metadata": {},
   "source": [
    "#### _2.2. Regime_\n",
    "\n",
    "Regime bits is a continuous sequence of the same sign bit and is terminated by a different sign bit.\n",
    "\n",
    "Regime length is dynamic and can be as long as the length of ps (i.e. ps-1).\n",
    "\n",
    "Regime is the main reason why posits can have a bigger dynamic range than floats.\n",
    "\n",
    "**Note:** Regime bits are a purely posit type of bits.\n"
   ]
  },
  {
   "cell_type": "code",
   "execution_count": 8,
   "metadata": {
    "scrolled": false
   },
   "outputs": [
    {
     "name": "stdout",
     "output_type": "stream",
     "text": [
      "posit16: 0.00390625\n",
      "\u001b[1;37;41m0\u001b[0m\u001b[1;30;43m00001\u001b[0m\u001b[1;37;44m0\u001b[0m\u001b[1;37;40m0 00000000\u001b[0m\n",
      "Four 0-bit terminated by a 1-bit. This implies regime runlength is 4.\n",
      "\n",
      "posit16: -0.00390625\n",
      "\u001b[1;37;41m1\u001b[0m\u001b[1;30;43m111110\u001b[0m\u001b[1;37;44m0\u001b[0m \u001b[1;37;40m00000000\u001b[0m\n",
      "Five 1-bit terminated by a 0-bit. This implies regime runlength is 5.\n",
      "\n",
      "posit16: 268435456\n",
      "\u001b[1;37;41m0\u001b[0m\u001b[1;30;43m1111111 11111111\u001b[0m\n",
      "Fifteen 1-bit without a terminating bit, exponent bit and fraction bits. Regime runlength is 15 (ps-1).\n"
     ]
    }
   ],
   "source": [
    "#Regime bits\n",
    "print(\"posit16: 0.00390625\")\n",
    "p16 = sp.posit16(0.00390625);\n",
    "p16.toBinaryFormatted()\n",
    "print(\"Four 0-bit terminated by a 1-bit. This implies regime runlength is 4.\\n\")\n",
    "\n",
    "print(\"posit16: -0.00390625\")\n",
    "p16 = sp.posit16(-0.00390625);\n",
    "p16.toBinaryFormatted()\n",
    "print(\"Five 1-bit terminated by a 0-bit. This implies regime runlength is 5.\\n\")\n",
    "\n",
    "print(\"posit16: 268435456\")\n",
    "p16 = sp.posit16(268435456) #maxpos\n",
    "p16.toBinaryFormatted()\n",
    "print(\"Fifteen 1-bit without a terminating bit, exponent bit and fraction bits. Regime runlength is 15 (ps-1).\")\n"
   ]
  },
  {
   "cell_type": "markdown",
   "metadata": {},
   "source": [
    "#### _2.3. Exponent_\n",
    "\n",
    "Exponent has a fixed size/length that is determined when the posit type is chosen.\n",
    "\n",
    "In the case of posit8, posit16 and posit32, es is 0, 1 and 2 respectively.\n",
    "\n",
    "As regime size is dynamic, the exponent bit(s) can be pushed out of the range of ps.\n"
   ]
  },
  {
   "cell_type": "code",
   "execution_count": 9,
   "metadata": {},
   "outputs": [
    {
     "name": "stdout",
     "output_type": "stream",
     "text": [
      "posit16: 4.76837158203125e-7\n",
      "\u001b[1;37;41m0\u001b[0m\u001b[1;30;43m0000000 00001\u001b[0m\u001b[1;37;44m1\u001b[0m\u001b[1;37;40m00\u001b[0m\n",
      "\n",
      "Shift bit to the right 3 times:\n",
      "\u001b[1;37;41m0\u001b[0m\u001b[1;30;43m0000000 00000001\u001b[0m\u001b[0m\n",
      "Exponent bit is being pushed out.\n",
      "posit16:  3.725290298461914e-09\n",
      "\n",
      "posit32:  1.5407439555097887e-33\n",
      "\u001b[1;37;41m0\u001b[0m\u001b[1;30;43m0000000 00000000 00000000 000001\u001b[0m\u001b[1;37;44m11\u001b[0m\u001b[0m\n",
      "\n",
      "Shift bit to the right 1 time:\n",
      "\u001b[1;37;41m0\u001b[0m\u001b[1;30;43m0000000 00000000 00000000 0000001\u001b[0m\u001b[1;37;44m1\u001b[0m\n",
      "One exponent bit is being pushed out.\n",
      "posit32:  4.81482486096809e-35\n"
     ]
    }
   ],
   "source": [
    "print(\"posit16: 4.76837158203125e-7\")\n",
    "p16 = sp.posit16(4.76837158203125e-7)\n",
    "p16.toBinaryFormatted()\n",
    "\n",
    "print(\"\\nShift bit to the right 3 times:\");\n",
    "p16>>=3\n",
    "p16.toBinaryFormatted()\n",
    "print(\"Exponent bit is being pushed out.\");\n",
    "print(\"posit16: \", p16)\n",
    "\n",
    "\n",
    "p32.fromBits(0x7)\n",
    "print(\"\\nposit32: \", p32)\n",
    "p32.toBinaryFormatted()\n",
    "\n",
    "print(\"\\nShift bit to the right 1 time:\");\n",
    "p32>>=1\n",
    "p32.toBinaryFormatted()\n",
    "print(\"One exponent bit is being pushed out.\");\n",
    "print(\"posit32: \", p32)\n"
   ]
  },
  {
   "cell_type": "markdown",
   "metadata": {},
   "source": [
    "#### _2.4. Fraction_\n",
    "\n",
    "The length of fraction is determined by regime and exponent.\n",
    "\n",
    "The minimum length is 0 and the maximum length for posit8, posit16 and posit32 is 5, 12 and 27 bits (excluding the hidden bit).\n",
    "\n",
    "As regime size is dynamic, the fraction bits can be pushed out of the range of ps.\n"
   ]
  },
  {
   "cell_type": "code",
   "execution_count": 10,
   "metadata": {},
   "outputs": [
    {
     "name": "stdout",
     "output_type": "stream",
     "text": [
      "Posit8: 0.984375\n",
      "\u001b[1;37;41m0\u001b[0m\u001b[1;30;43m01\u001b[0m\u001b[1;37;40m11111\u001b[0m\n",
      "\n",
      "Posit8: 0.015625\n",
      "\u001b[1;37;41m0\u001b[0m\u001b[1;30;43m0000001\u001b[0m\u001b[0m\n"
     ]
    }
   ],
   "source": [
    "p8.fromBits(0x3F)\n",
    "print(\"Posit8:\", p8)\n",
    "p8.toBinaryFormatted()\n",
    "\n",
    "p8.fromBits(0x1)\n",
    "print(\"\\nPosit8:\", p8)\n",
    "p8.toBinaryFormatted()"
   ]
  },
  {
   "cell_type": "markdown",
   "metadata": {},
   "source": [
    "#### 3. Special bit patterns:\n",
    "#### _3.1. Zero_\n",
    "\n",
    "Unlike IEEE 754, where there is $±0$\n",
    ", posit has only one bit pattern to represents $0$.\n",
    "\n",
    "IEEE 754 has two bit patterns to represent positive and negative zero respectively."
   ]
  },
  {
   "cell_type": "code",
   "execution_count": 11,
   "metadata": {},
   "outputs": [
    {
     "name": "stdout",
     "output_type": "stream",
     "text": [
      "Float: Positive zero:\n",
      "\u001b[1;37;41m0\u001b[0m\u001b[1;37;44m00000\u001b[0m\u001b[1;37;40m00 00000000\u001b[0m\n",
      "\n",
      "Float: Negative zero:\n",
      "\u001b[1;37;41m1\u001b[0m\u001b[1;37;44m00000\u001b[0m\u001b[1;37;40m00 00000000\u001b[0m\n",
      "\n",
      "Posit: Positive zero:\n",
      "\u001b[1;37;41m0\u001b[0m\u001b[1;30;43m0000000 00000000\u001b[0m\n",
      "\n",
      "Posit: Negative zero:\n",
      "\u001b[1;37;41m0\u001b[0m\u001b[1;30;43m0000000 00000000\u001b[0m\n"
     ]
    }
   ],
   "source": [
    "print(\"Float: Positive zero:\")\n",
    "f16 = sf.float16(+0.0)\n",
    "f16.toBinaryFormatted()\n",
    "\n",
    "print(\"\\nFloat: Negative zero:\")\n",
    "f16 = sf.float16(-0.0)\n",
    "f16.toBinaryFormatted()\n",
    "\n",
    "print(\"\\nPosit: Positive zero:\")\n",
    "p16 = sp.posit16(+0.0)\n",
    "p16.toBinaryFormatted()\n",
    "\n",
    "print(\"\\nPosit: Negative zero:\")\n",
    "p16 = sp.posit16(-0.0)\n",
    "p16.toBinaryFormatted()"
   ]
  },
  {
   "cell_type": "markdown",
   "metadata": {},
   "source": [
    "#### _3.2. NaR_\n",
    "\n",
    "Posit has only one bit pattern to represents infinity, undefined and unrepresented values.\n",
    "\n",
    "$NaR$ -> <span style=\"color:red\">1</span><span style=\"color:#cb9b33\">0000000 00000000</span>\n",
    "\n",
    "#### _3.2.1. IEEE 754_\n",
    "\n",
    "IEEE 754 uses $NaN$ (Not-a-Number) to represent undefined and unrepresentable values.   \n",
    "* sign = either 0 or 1.\n",
    "* exponent = all 1 bits.\n",
    "* fraction = anything except all 0 bits\n",
    "\n",
    "**Infinity**\n",
    "* sign = either 0 or 1.\n",
    "* exponent = all 1 bits.\n",
    "* fraction = all 0 bits\n"
   ]
  },
  {
   "cell_type": "code",
   "execution_count": 12,
   "metadata": {},
   "outputs": [
    {
     "name": "stdout",
     "output_type": "stream",
     "text": [
      "Posit: NaR\n",
      "\u001b[1;37;41m1\u001b[0m\u001b[1;30;43m0000000 00000000\u001b[0m\n",
      "\n",
      "Posit: Divide by zero\n",
      "\u001b[1;37;41m1\u001b[0m\u001b[1;30;43m0000000 00000000\u001b[0m\n",
      "NaR\n",
      "\n",
      "Posit: Square root(negative number)\n",
      "\u001b[1;37;41m1\u001b[0m\u001b[1;30;43m0000000 00000000\u001b[0m\n",
      "NaR\n",
      "\n",
      "Float: NaN - Divide by zero\n",
      "\u001b[1;37;41m0\u001b[0m\u001b[1;37;44m11111\u001b[0m\u001b[1;37;40m00 00000000\u001b[0m\n",
      "inf\n",
      "\n",
      "Float: NaN - Divide by zero\n",
      "\u001b[1;37;41m1\u001b[0m\u001b[1;37;44m11111\u001b[0m\u001b[1;37;40m00 00000000\u001b[0m\n",
      "-inf\n",
      "\n",
      "Float: Square root(negative number)\n",
      "\u001b[1;37;41m1\u001b[0m\u001b[1;37;44m11111\u001b[0m\u001b[1;37;40m10 00000000\u001b[0m\n",
      "nan\n",
      "\n",
      "\n",
      "\u001b[1;37;41m1\u001b[0m\u001b[1;37;44m11111\u001b[0m\u001b[1;37;40m10 00000010\u001b[0m\n",
      "nan\n"
     ]
    }
   ],
   "source": [
    "#Posit\n",
    "print(\"Posit: NaR\")\n",
    "p16.toNaR()\n",
    "p16.toBinaryFormatted()\n",
    "\n",
    "print(\"\\nPosit: Divide by zero\")\n",
    "p16=sp.posit16(1)\n",
    "p16/=0\n",
    "p16.toBinaryFormatted()\n",
    "print(p16)\n",
    "\n",
    "print(\"\\nPosit: Square root(negative number)\")\n",
    "p16=sp.posit16(-1)\n",
    "p16.sqrt()\n",
    "p16.toBinaryFormatted()\n",
    "print(p16)\n",
    "\n",
    "#Float\n",
    "print(\"\\nFloat: NaN - Divide by zero\")\n",
    "f16 = sf.float16(1)\n",
    "f16/=0\n",
    "f16.toBinaryFormatted()\n",
    "print(f16)\n",
    "\n",
    "print(\"\\nFloat: NaN - Divide by zero\")\n",
    "f16 = sf.float16(-1)\n",
    "f16/=0\n",
    "f16.toBinaryFormatted()\n",
    "print(f16)\n",
    "\n",
    "print(\"\\nFloat: Square root(negative number)\")\n",
    "f16 = sf.float16(-1)\n",
    "f16.sqrt()\n",
    "f16.toBinaryFormatted()\n",
    "print(f16)\n",
    "\n",
    "\n",
    "#try a different bit pattern for NaN\n",
    "print(\"\\n\")\n",
    "f16.fromBits(0xFE02)\n",
    "f16.toBinaryFormatted()\n",
    "print(f16)"
   ]
  },
  {
   "cell_type": "markdown",
   "metadata": {},
   "source": [
    "#### 4. A little Math: Calculating the value of a posit\n",
    "\n",
    "Although computers store all numbers as binary (base 2), most of us use decimal (base 10) to visual the value of a number.\n",
    "\n",
    "To convert a posit from base 2 to base 10, the following has to be done:\n",
    "\n",
    "$$\n",
    "\\begin{aligned}\n",
    "& p=0, && \\text{if } bit_0..bit_{n−1}=0, \\\\\n",
    "& p=NaR, && \\text{if } bit_0=1,bit_1..bit_{n−1}=0, \\\\\n",
    "& p=(−1)^{sign}\\times useed^k\\times 2^e\\times (1+\\frac{f}{2^{fs}}), && \\text{otherwise (note that posit should be in 2's complement form if sign=1)} \\\\\n",
    "\\end{aligned}\n",
    "$$\n",
    "where   \n",
    "> $p$ is the posit value represented,   \n",
    "> $n$ is the posit size (total number of bits in the posit),   \n",
    "> $NaR$ is Not-a-Real,   \n",
    "> $sign$ is $bit_0$,   \n",
    "> $useed$ is $2^{2^{es}}$ and $es$ is the exponent size,   \n",
    "> $e$ is the exponent value in the $es$ bits,   \n",
    "> $k$ is the scaling factor expressed by the regime (refer to pseudo code),   \n",
    "> $f$ is the fraction value and   \n",
    "> $fs$ is the fraction size in bits.\n",
    "\n",
    "#### Calculate k\n",
    "\n",
    "`if (first regime bit == 0)\n",
    "    k = - runlength\n",
    "else if (first regime bit == 1)\n",
    "    k = runlength -1`\n",
    "\n",
    "#### _Exercise:_\n",
    "\n",
    "Using the same method as example one, please compute the value of the following posit32 (es=2) binary:\n",
    "\n",
    "00000001 01010111 00001111 10111000"
   ]
  },
  {
   "cell_type": "code",
   "execution_count": 13,
   "metadata": {
    "scrolled": true
   },
   "outputs": [
    {
     "name": "stdout",
     "output_type": "stream",
     "text": [
      "\u001b[1;37;41m0\u001b[0m\u001b[1;30;43m01\u001b[0m\u001b[1;37;44m0\u001b[0m\u001b[1;37;40m0011 00110011\u001b[0m\n",
      "Actual p16 value:  0.29998779296875\n",
      "Rounded p value: 0.3\n",
      "P value to 14 decimal points: 0.30000000000000\n",
      "P value to 20 decimal points: 0.29999999999999998890\n",
      "--- EXERCISE ---\n",
      "\u001b[1;37;41m0\u001b[0m\u001b[1;30;43m0000001\u001b[0m \u001b[1;37;44m01\u001b[0m\u001b[1;37;40m010111 00001111 10111000\u001b[0m\n",
      "Actual p32 value:  1.621644969418412e-07\n",
      "Rounded p value: 1.6216450718316315e-07\n",
      "P value to 28 decimal points: 0.0000000000000000000000000000\n",
      "P value to 40 decimal points: 0.0000000000000000000000000000000000000000\n"
     ]
    }
   ],
   "source": [
    "#Example One\n",
    "p16 = sp.posit16(0.3)\n",
    "p16.toBinaryFormatted()\n",
    "print(\"Actual p16 value: \", p16)\n",
    "\n",
    "es = 1\n",
    "sign=0\n",
    "useed=pow(2, pow(2,es))\n",
    "e=0\n",
    "k=-1\n",
    "f=int(\"001100110011\", 2)\n",
    "p = pow((-1), sign) * pow(useed, k) * pow(2, e) * (1+ (f/(int(\"111111111111\",2))))\n",
    "print(\"Rounded p value:\", p)\n",
    "print(\"P value to 14 decimal points: {0:.14f}\".format(round(p,2)))\n",
    "print(\"P value to 20 decimal points: {0:.20f}\".format(round(p,2)))\n",
    "\n",
    "#Exercise - Please write your code below:\n",
    "print(\"--- EXERCISE ---\")\n",
    "p32 = sp.posit32(0)\n",
    "p32.fromBits(int(\"00000001010101110000111110111000\", 2))\n",
    "p32.toBinaryFormatted()\n",
    "print(\"Actual p32 value: \", p32)\n",
    "\n",
    "es = 2\n",
    "sign=0\n",
    "useed=pow(2, pow(2,es))\n",
    "e=1\n",
    "k=-6\n",
    "f=int(\"0101110000111110111000\", 2)\n",
    "p = pow((-1), sign) * pow(useed, k) * pow(2, e) * (1+ (f/(int(\"1111111111111111111111\",2))))\n",
    "print(\"Rounded p value:\", p)\n",
    "print(\"P value to 28 decimal points: {0:.28f}\".format(round(p,2)))\n",
    "print(\"P value to 40 decimal points: {0:.40f}\".format(round(p,2)))"
   ]
  },
  {
   "cell_type": "markdown",
   "metadata": {},
   "source": [
    "#### 5. Operating with posits"
   ]
  },
  {
   "cell_type": "code",
   "execution_count": 14,
   "metadata": {},
   "outputs": [
    {
     "name": "stdout",
     "output_type": "stream",
     "text": [
      "5.19921875\n"
     ]
    }
   ],
   "source": [
    "#Initialise a 16-bit posit\n",
    "a = sp.posit16(2.6)\n",
    "b = a + 2.1\n",
    "a *= 2\n",
    "c = b/a\n",
    "\n",
    "# fused-multiply-add => c + (0.2* 2.3)\n",
    "c.fma(0.2, 2.3)\n",
    "\n",
    "result = c.sqrt()\n",
    "\n",
    "# convert a 16-bit posit to 8-bit posit\n",
    "p8 = c.toPosit8() \n",
    "\n",
    "\n",
    "#quire - initialise to zero when declared\n",
    "q = sp.quire16()\n",
    "\n",
    "#fused multiply subtract -> q + (6.2*1.2)\n",
    "q.qms(6.2, 1.2)\n",
    "\n",
    "#convert quire to posit\n",
    "c = q.toPosit()\n",
    "\n",
    "#to clear quire to zero\n",
    "q.clr()\n",
    "\n",
    "#print\n",
    "print (a)"
   ]
  }
 ],
 "metadata": {
  "kernelspec": {
   "display_name": "Python 3",
   "language": "python",
   "name": "python3"
  },
  "language_info": {
   "codemirror_mode": {
    "name": "ipython",
    "version": 3
   },
   "file_extension": ".py",
   "mimetype": "text/x-python",
   "name": "python",
   "nbconvert_exporter": "python",
   "pygments_lexer": "ipython3",
   "version": "3.7.1"
  }
 },
 "nbformat": 4,
 "nbformat_minor": 2
}
