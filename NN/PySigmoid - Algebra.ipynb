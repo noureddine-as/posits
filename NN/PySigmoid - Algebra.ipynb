{
 "cells": [
  {
   "cell_type": "code",
   "execution_count": 1,
   "metadata": {},
   "outputs": [],
   "source": [
    "import numpy as np\n",
    "import scipy as sp\n",
    "import matplotlib.pyplot as plt\n",
    "from PySigmoid import *\n",
    "\n",
    "set_posit_env(8, 0)"
   ]
  },
  {
   "cell_type": "code",
   "execution_count": 2,
   "metadata": {},
   "outputs": [],
   "source": [
    "def posify(x):\n",
    "    if type(x) == np.ndarray:\n",
    "        if len(x.shape) == 1:\n",
    "            return np.array([Posit(y) for y in x])\n",
    "        else:\n",
    "            return np.array([[Posit(z) for z in y] for y in x])\n",
    "    else:\n",
    "        return Posit(x)"
   ]
  },
  {
   "cell_type": "code",
   "execution_count": 3,
   "metadata": {},
   "outputs": [
    {
     "name": "stdout",
     "output_type": "stream",
     "text": [
      "0.0\n"
     ]
    },
    {
     "data": {
      "text/plain": [
       "2"
      ]
     },
     "execution_count": 3,
     "metadata": {},
     "output_type": "execute_result"
    }
   ],
   "source": [
    "a = np.array( [3.2e8, 1.0, -1.0, 8.0e7])\n",
    "\n",
    "b = np.array( [4.0e7, 1.0, -1.0, -1.6e8])\n",
    "\n",
    "print(a.dot(b))\n",
    "\n",
    "set_posit_env(16, 2)\n",
    "ap = posify(a)\n",
    "bp = posify(b)\n",
    "Posit.fused_dot_product(ap, bp)"
   ]
  }
 ],
 "metadata": {
  "kernelspec": {
   "display_name": "Python 3",
   "language": "python",
   "name": "python3"
  },
  "language_info": {
   "codemirror_mode": {
    "name": "ipython",
    "version": 3
   },
   "file_extension": ".py",
   "mimetype": "text/x-python",
   "name": "python",
   "nbconvert_exporter": "python",
   "pygments_lexer": "ipython3",
   "version": "3.7.1"
  }
 },
 "nbformat": 4,
 "nbformat_minor": 2
}
