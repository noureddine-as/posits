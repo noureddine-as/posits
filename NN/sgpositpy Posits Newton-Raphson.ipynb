{
 "cells": [
  {
   "cell_type": "code",
   "execution_count": 1,
   "metadata": {},
   "outputs": [],
   "source": [
    "from sgposit.pcposit import PCPosit\n",
    "import numpy as np\n",
    "import matplotlib.pyplot as plt\n",
    "from sympy import *\n",
    "nbits = 32 # number of bits of the posits\n",
    "es = 2 # number of exponent bits of the posits"
   ]
  },
  {
   "cell_type": "code",
   "execution_count": 2,
   "metadata": {},
   "outputs": [],
   "source": [
    "def f(x):\n",
    "    ans = x\n",
    "    for i in range(1,n):\n",
    "        ans *= x\n",
    "    if isinstance(ans, PCPosit):\n",
    "        return ans - posit_root\n",
    "    return ans - float_root"
   ]
  },
  {
   "cell_type": "code",
   "execution_count": 3,
   "metadata": {},
   "outputs": [],
   "source": [
    "def mul_int(x, n):\n",
    "    ans = x\n",
    "    for i in range(1,n):\n",
    "        ans += x\n",
    "    return ans"
   ]
  },
  {
   "cell_type": "code",
   "execution_count": 4,
   "metadata": {},
   "outputs": [],
   "source": [
    "def df(x):\n",
    "    temp = x\n",
    "    for i in range(1, n-1):\n",
    "        temp *= x\n",
    "    return mul_int(temp, n)"
   ]
  },
  {
   "cell_type": "code",
   "execution_count": 5,
   "metadata": {},
   "outputs": [],
   "source": [
    "def NewRap(x):\n",
    "    return x - f(x) / df(x)"
   ]
  },
  {
   "cell_type": "code",
   "execution_count": 6,
   "metadata": {},
   "outputs": [],
   "source": [
    "#Put a posit into a 64 bits float\n",
    "def posit_to_float(p):\n",
    "    (x,m) = p._fixedpoint()\n",
    "    return x* 2**m\n",
    "#Put a list of posits into 64 bits floats\n",
    "def posit_lst_to_float(lst):\n",
    "    for i in range(0, len(lst)):\n",
    "        lst[i] = posit_to_float(lst[i])\n",
    "    return lst"
   ]
  },
  {
   "cell_type": "code",
   "execution_count": 7,
   "metadata": {
    "scrolled": true
   },
   "outputs": [],
   "source": [
    "def computeNewRap():\n",
    "    # Value of solution by iteration\n",
    "    nrp = [posit_x0]*(steps+1)\n",
    "    nrf = [float_x0]*(steps+1)\n",
    "    # Error by iteration\n",
    "    errorp = [posit_x0 - posit_root]*(steps+1)\n",
    "    errorf = [float_x0 - float_root]*(steps+1)\n",
    "\n",
    "    for i in range(steps):\n",
    "        nrp[i+1] = NewRap(nrp[i])\n",
    "        nrf[i+1] = NewRap(nrf[i])\n",
    "        errorp[i+1] = nrp[i+1]-posit_root\n",
    "        errorf[i+1] = nrf[i+1]-float_root\n",
    "\n",
    "    if (steps <= 10):\n",
    "        print(posit_lst_to_float(nrp))\n",
    "        print(posit_lst_to_float(errorp))\n",
    "        print(nrf)\n",
    "        print(errorf)\n",
    "    else:\n",
    "        posit_lst_to_float(errorp)\n",
    "\n",
    "    # Plotting results\n",
    "    plt.figure(figsize=(10,3))\n",
    "    plt.subplot(1, 2, 1)\n",
    "    plt.plot(range(steps+1), errorf)\n",
    "    plt.title(\"Error at Newton-Raphson for floats\")\n",
    "    plt.xlabel(\"Number of steps\")\n",
    "    plt.ylabel(\"Error\")\n",
    "\n",
    "    plt.subplot(1, 2, 2)\n",
    "    plt.plot(range(steps+1), errorp)\n",
    "    plt.title(\"Error at Newton-Raphson for posits\")\n",
    "    plt.xlabel(\"Number of steps\")\n",
    "    plt.ylabel(\"Error\")\n",
    "\n",
    "    plt.show()"
   ]
  },
  {
   "cell_type": "markdown",
   "metadata": {},
   "source": [
    "$f(x) = x^3-1 \\text{ with } x_0 = \\frac{1}{4}$"
   ]
  },
  {
   "cell_type": "code",
   "execution_count": 8,
   "metadata": {},
   "outputs": [
    {
     "name": "stdout",
     "output_type": "stream",
     "text": [
      "[0.25, 5.5, 3.67768594622612, 2.476435661315918, 1.7053102478384972, 1.25149654597044, 1.0471544563770294, 1.0020915418863297, 1.0000043585896492, 1.0, 1.0]\n",
      "[-0.75, 4.5, 2.67768594622612, 1.476435661315918, 0.7053102478384972, 0.2514965459704399, 0.04715445637702942, 0.002091541886329651, 4.3585896492004395e-06, 0, 0]\n",
      "[0.25, 5.5, 3.677686, 2.4764357, 1.7053102, 1.2514966, 1.0471544, 1.0020915, 1.0000044, 1.0, 1.0]\n",
      "[-0.75, 4.5, 2.677686, 1.4764357, 0.7053102, 0.25149655, 0.047154427, 0.002091527, 4.4107437e-06, 0.0, 0.0]\n"
     ]
    },
    {
     "data": {
      "image/png": "[encoded data removed]",
      "text/plain": [
       "<Figure size 720x216 with 2 Axes>"
      ]
     },
     "metadata": {},
     "output_type": "display_data"
    }
   ],
   "source": [
    "steps = 10 # amount of steps that are calculated\n",
    "\n",
    "# initialize value x0 for posits and floats\n",
    "# here is chosen x0 = 1/4\n",
    "posit_x0 = PCPosit(3*2**(nbits-4), mode='bits', nbits=nbits, es=es)\n",
    "float_x0 = np.float32(1.0/4)\n",
    "\n",
    "# numbers where the nth root is calculated\n",
    "# In this case n = 3 and the number from which the root is drawn is 1\n",
    "n = 3\n",
    "posit_root = PCPosit(2**(nbits-2), mode='bits', nbits=nbits, es=es)\n",
    "float_root = np.float32(1)\n",
    "\n",
    "# exact answer in a 64 bit float\n",
    "exact = float(1)\n",
    "\n",
    "computeNewRap()"
   ]
  },
  {
   "cell_type": "markdown",
   "metadata": {},
   "source": [
    "$f(x) = x^3 \\text{ with } x_0 = \\frac{1}{4}$"
   ]
  },
  {
   "cell_type": "code",
   "execution_count": 9,
   "metadata": {},
   "outputs": [
    {
     "name": "stdout",
     "output_type": "stream",
     "text": [
      "[0.25, 0.16666666604578495, 0.11111111100763083, 0.07407407369464636, 0.04938271548599005, 0.03292181063443422, 0.021947873756289482, 0.014631915604695678, 0.009754610364325345, 0.006503073556814343, 0.004335382313001901]\n",
      "[0.25, 0.16666666604578495, 0.11111111100763083, 0.07407407369464636, 0.04938271548599005, 0.03292181063443422, 0.021947873756289482, 0.014631915604695678, 0.009754610364325345, 0.006503073556814343, 0.004335382313001901]\n",
      "[0.25, 0.16666666, 0.111111104, 0.07407407, 0.04938271, 0.032921806, 0.021947872, 0.014631914, 0.009754609, 0.0065030726, 0.0043353816]\n",
      "[0.25, 0.16666666, 0.111111104, 0.07407407, 0.04938271, 0.032921806, 0.021947872, 0.014631914, 0.009754609, 0.0065030726, 0.0043353816]\n"
     ]
    },
    {
     "data": {
      "image/png": "[encoded data removed]",
      "text/plain": [
       "<Figure size 720x216 with 2 Axes>"
      ]
     },
     "metadata": {},
     "output_type": "display_data"
    }
   ],
   "source": [
    "steps = 10 # amount of steps that are calculated\n",
    "\n",
    "# initialize value x0 for posits and floats\n",
    "# here is chosen x0 = 1/4\n",
    "posit_x0 = PCPosit(3*2**(nbits-4), mode='bits', nbits=nbits, es=es)\n",
    "float_x0 = np.float32(1.0/4)\n",
    "\n",
    "# numbers where the nth root is calculated\n",
    "# In this case n = 3 and the number from which the root is drawn is 0\n",
    "n = 3\n",
    "posit_root = PCPosit(0, mode='bits', nbits=nbits, es=es)\n",
    "float_root = np.float32(0)\n",
    "\n",
    "# exact answer in a 64 bit float\n",
    "exact = float(0)\n",
    "\n",
    "computeNewRap()"
   ]
  },
  {
   "cell_type": "code",
   "execution_count": 10,
   "metadata": {
    "scrolled": true
   },
   "outputs": [
    {
     "data": {
      "image/png": "[encoded data removed]",
      "text/plain": [
       "<Figure size 720x216 with 2 Axes>"
      ]
     },
     "metadata": {},
     "output_type": "display_data"
    }
   ],
   "source": [
    "steps=100\n",
    "computeNewRap()"
   ]
  },
  {
   "cell_type": "markdown",
   "metadata": {},
   "source": [
    "$f(x) = x^{120} - 2^{-120} \\text{ with } x_0 = 4$"
   ]
  },
  {
   "cell_type": "code",
   "execution_count": 11,
   "metadata": {},
   "outputs": [
    {
     "name": "stderr",
     "output_type": "stream",
     "text": [
      "C:\\ProgramData\\Anaconda3\\lib\\site-packages\\ipykernel_launcher.py:4: RuntimeWarning: overflow encountered in float_scalars\n",
      "  after removing the cwd from sys.path.\n",
      "C:\\ProgramData\\Anaconda3\\lib\\site-packages\\ipykernel_launcher.py:2: RuntimeWarning: invalid value encountered in float_scalars\n",
      "  \n"
     ]
    },
    {
     "data": {
      "image/png": "[encoded data removed]",
      "text/plain": [
       "<Figure size 720x216 with 2 Axes>"
      ]
     },
     "metadata": {},
     "output_type": "display_data"
    }
   ],
   "source": [
    "steps = 500 # amount of steps that are calculated\n",
    "\n",
    "# initialize value x0 for posits and floats\n",
    "# here is chosen x0 = 4\n",
    "posit_x0 = PCPosit(5*2**(nbits-4), mode='bits', nbits=nbits, es=es)\n",
    "float_x0 = np.float32(4)\n",
    "\n",
    "# numbers where the nth root is calculated\n",
    "# In this case n = 120 and the number from which the root is drawn is 2^(-120)\n",
    "n = 120\n",
    "posit_root = PCPosit(1, mode='bits', nbits=nbits, es=es)\n",
    "float_root = np.float32(2**(-120))\n",
    "\n",
    "# exact answer in a 64 bit float\n",
    "exact = float(0.5)\n",
    "\n",
    "computeNewRap()"
   ]
  },
  {
   "cell_type": "markdown",
   "metadata": {},
   "source": [
    "## Bailey's Numerical Nightmare\n",
    "(From *The End of Error*)   \n",
    "\n",
    "Solve the system\n",
    "$$\\begin{pmatrix}\n",
    "0.25510582 & 0.52746197\\\\\n",
    "0.80143857 & 1.65707065\n",
    "\\end{pmatrix}\n",
    "\\begin{pmatrix}\n",
    "x\\\\\n",
    "y\n",
    "\\end{pmatrix}\n",
    "= \n",
    "\\begin{pmatrix}\n",
    "0.79981812\\\\\n",
    "2.51270273\n",
    "\\end{pmatrix}$$"
   ]
  },
  {
   "cell_type": "code",
   "execution_count": 12,
   "metadata": {},
   "outputs": [],
   "source": [
    "a, b, c, d = 25510582/(2**26), 52746197/(2**26), 80143857/(2**26), 165707065/(2**26)\n",
    "u, v = 79981812/(2**26), 251270273/(2**26)"
   ]
  },
  {
   "cell_type": "markdown",
   "metadata": {},
   "source": [
    "#### Algebraic solution with `sympy` package"
   ]
  },
  {
   "cell_type": "code",
   "execution_count": 13,
   "metadata": {
    "scrolled": true
   },
   "outputs": [
    {
     "data": {
      "text/plain": [
       "{(-1.0, 2.0)}"
      ]
     },
     "execution_count": 13,
     "metadata": {},
     "output_type": "execute_result"
    }
   ],
   "source": [
    "x, y = symbols('x y')\n",
    "M = Matrix(((a,b,u), (c,d,v)))\n",
    "system = A, b = M[:, :-1], M[:, -1]\n",
    "linsolve(system, (x, y))"
   ]
  },
  {
   "cell_type": "code",
   "execution_count": 14,
   "metadata": {},
   "outputs": [],
   "source": [
    "a, b, c, d = 25510582/(2**26), 52746197/(2**26), 80143857/(2**26), 165707065/(2**26)\n",
    "u, v = 79981812/(2**26), 251270273/(2**26)"
   ]
  },
  {
   "cell_type": "markdown",
   "metadata": {},
   "source": [
    "Using Cramer’s rule:"
   ]
  },
  {
   "cell_type": "code",
   "execution_count": 15,
   "metadata": {},
   "outputs": [
    {
     "data": {
      "text/plain": [
       "{0.0, 2.0}"
      ]
     },
     "execution_count": 15,
     "metadata": {},
     "output_type": "execute_result"
    }
   ],
   "source": [
    "fa, fb, fc, fd = np.float64(a), np.float64(b), np.float64(c), np.float64(d)\n",
    "fu, fv = np.float64(u), np.float64(v)\n",
    "\n",
    "det = fa*fd - fb*fc;\n",
    "fx, fy = (fu*fd - fb*fv)/det, (fa*fv - fu*fc)/det\n",
    "{fx,fy}"
   ]
  },
  {
   "cell_type": "code",
   "execution_count": 16,
   "metadata": {},
   "outputs": [
    {
     "ename": "AssertionError",
     "evalue": "",
     "output_type": "error",
     "traceback": [
      "\u001b[1;31m---------------------------------------------------------------------------\u001b[0m",
      "\u001b[1;31mAssertionError\u001b[0m                            Traceback (most recent call last)",
      "\u001b[1;32m<ipython-input-16-05ea9158da2d>\u001b[0m in \u001b[0;36m<module>\u001b[1;34m()\u001b[0m\n\u001b[0;32m      2\u001b[0m \u001b[0mes\u001b[0m \u001b[1;33m=\u001b[0m \u001b[1;36m3\u001b[0m \u001b[1;31m# number of exponent bits of the posits\u001b[0m\u001b[1;33m\u001b[0m\u001b[0m\n\u001b[0;32m      3\u001b[0m \u001b[1;33m\u001b[0m\u001b[0m\n\u001b[1;32m----> 4\u001b[1;33m \u001b[0mpa\u001b[0m \u001b[1;33m=\u001b[0m \u001b[0mPCPosit\u001b[0m\u001b[1;33m(\u001b[0m\u001b[1;36m85984435977336745528465019211884789760\u001b[0m\u001b[1;33m,\u001b[0m \u001b[0mmode\u001b[0m\u001b[1;33m=\u001b[0m\u001b[1;34m'bits'\u001b[0m\u001b[1;33m,\u001b[0m \u001b[0mnbits\u001b[0m\u001b[1;33m=\u001b[0m\u001b[0mnbits\u001b[0m\u001b[1;33m,\u001b[0m \u001b[0mes\u001b[0m\u001b[1;33m=\u001b[0m\u001b[0mes\u001b[0m\u001b[1;33m)\u001b[0m\u001b[1;33m\u001b[0m\u001b[0m\n\u001b[0m\u001b[0;32m      5\u001b[0m \u001b[0mpb\u001b[0m \u001b[1;33m=\u001b[0m \u001b[0mPCPosit\u001b[0m\u001b[1;33m(\u001b[0m\u001b[1;36m140259739010334720\u001b[0m\u001b[1;33m,\u001b[0m \u001b[0mmode\u001b[0m\u001b[1;33m=\u001b[0m\u001b[1;34m'bits'\u001b[0m\u001b[1;33m,\u001b[0m \u001b[0mnbits\u001b[0m\u001b[1;33m=\u001b[0m\u001b[0mnbits\u001b[0m\u001b[1;33m,\u001b[0m \u001b[0mes\u001b[0m\u001b[1;33m=\u001b[0m\u001b[0mes\u001b[0m\u001b[1;33m)\u001b[0m\u001b[1;33m\u001b[0m\u001b[0m\n\u001b[0;32m      6\u001b[0m \u001b[0mpc\u001b[0m \u001b[1;33m=\u001b[0m \u001b[0mPCPosit\u001b[0m\u001b[1;33m(\u001b[0m\u001b[1;36m145864715220811776\u001b[0m\u001b[1;33m,\u001b[0m \u001b[0mmode\u001b[0m\u001b[1;33m=\u001b[0m\u001b[1;34m'bits'\u001b[0m\u001b[1;33m,\u001b[0m \u001b[0mnbits\u001b[0m\u001b[1;33m=\u001b[0m\u001b[0mnbits\u001b[0m\u001b[1;33m,\u001b[0m \u001b[0mes\u001b[0m\u001b[1;33m=\u001b[0m\u001b[0mes\u001b[0m\u001b[1;33m)\u001b[0m\u001b[1;33m\u001b[0m\u001b[0m\n",
      "\u001b[1;32mC:\\ProgramData\\Anaconda3\\lib\\site-packages\\sgposit\\pcposit.py\u001b[0m in \u001b[0;36m__init__\u001b[1;34m(self, v, mode, nbits, es)\u001b[0m\n\u001b[0;32m     55\u001b[0m         \u001b[1;32melif\u001b[0m \u001b[0mmode\u001b[0m \u001b[1;33m==\u001b[0m \u001b[1;34m'bits'\u001b[0m\u001b[1;33m:\u001b[0m\u001b[1;33m\u001b[0m\u001b[0m\n\u001b[0;32m     56\u001b[0m             \u001b[1;32mif\u001b[0m \u001b[0misinstance\u001b[0m\u001b[1;33m(\u001b[0m\u001b[0mv\u001b[0m\u001b[1;33m,\u001b[0m \u001b[0mnumbers\u001b[0m\u001b[1;33m.\u001b[0m\u001b[0mIntegral\u001b[0m\u001b[1;33m)\u001b[0m\u001b[1;33m:\u001b[0m\u001b[1;33m\u001b[0m\u001b[0m\n\u001b[1;32m---> 57\u001b[1;33m                 \u001b[0mself\u001b[0m\u001b[1;33m.\u001b[0m\u001b[0mrep\u001b[0m \u001b[1;33m=\u001b[0m \u001b[0mcoder\u001b[0m\u001b[1;33m.\u001b[0m\u001b[0mdecode_posit_binary\u001b[0m\u001b[1;33m(\u001b[0m\u001b[0mv\u001b[0m\u001b[1;33m,\u001b[0m \u001b[0mnbits\u001b[0m\u001b[1;33m=\u001b[0m\u001b[0mnbits\u001b[0m\u001b[1;33m,\u001b[0m \u001b[0mes\u001b[0m\u001b[1;33m=\u001b[0m\u001b[0mes\u001b[0m\u001b[1;33m)\u001b[0m\u001b[1;33m\u001b[0m\u001b[0m\n\u001b[0m\u001b[0;32m     58\u001b[0m                 \u001b[1;32mreturn\u001b[0m\u001b[1;33m\u001b[0m\u001b[0m\n\u001b[0;32m     59\u001b[0m             \u001b[1;32melif\u001b[0m \u001b[0misinstance\u001b[0m\u001b[1;33m(\u001b[0m\u001b[0mv\u001b[0m\u001b[1;33m,\u001b[0m \u001b[0mstr\u001b[0m\u001b[1;33m)\u001b[0m\u001b[1;33m:\u001b[0m\u001b[1;33m\u001b[0m\u001b[0m\n",
      "\u001b[1;32mC:\\ProgramData\\Anaconda3\\lib\\site-packages\\sgposit\\coder.py\u001b[0m in \u001b[0;36mdecode_posit_binary\u001b[1;34m(bits, nbits, es)\u001b[0m\n\u001b[0;32m     72\u001b[0m \u001b[1;33m\u001b[0m\u001b[0m\n\u001b[0;32m     73\u001b[0m     \u001b[1;32mif\u001b[0m \u001b[0mregime\u001b[0m \u001b[1;33m==\u001b[0m \u001b[1;36m0\u001b[0m\u001b[1;33m:\u001b[0m\u001b[1;33m\u001b[0m\u001b[0m\n\u001b[1;32m---> 74\u001b[1;33m         \u001b[1;32massert\u001b[0m \u001b[1;36m1\u001b[0m \u001b[1;33m<=\u001b[0m \u001b[0mnleads\u001b[0m \u001b[1;32mand\u001b[0m \u001b[0mnleads\u001b[0m \u001b[1;33m<=\u001b[0m \u001b[0mnbits\u001b[0m\u001b[1;33m-\u001b[0m\u001b[1;36m2\u001b[0m\u001b[1;33m\u001b[0m\u001b[0m\n\u001b[0m\u001b[0;32m     75\u001b[0m         \u001b[0mrep\u001b[0m\u001b[1;33m[\u001b[0m\u001b[1;34m'k'\u001b[0m\u001b[1;33m]\u001b[0m \u001b[1;33m=\u001b[0m \u001b[1;33m-\u001b[0m\u001b[0mnleads\u001b[0m\u001b[1;33m\u001b[0m\u001b[0m\n\u001b[0;32m     76\u001b[0m     \u001b[1;32melse\u001b[0m\u001b[1;33m:\u001b[0m\u001b[1;33m\u001b[0m\u001b[0m\n",
      "\u001b[1;31mAssertionError\u001b[0m: "
     ]
    }
   ],
   "source": [
    "nbits = 59 # number of bits of the posits\n",
    "es = 3 # number of exponent bits of the posits\n",
    "\n",
    "pa = PCPosit(85984435977336745528465019211884789760, mode='bits', nbits=nbits, es=es)\n",
    "pb = PCPosit(140259739010334720, mode='bits', nbits=nbits, es=es)\n",
    "pc = PCPosit(145864715220811776, mode='bits', nbits=nbits, es=es)\n",
    "pd = PCPosit(155235600964780032, mode='bits', nbits=nbits, es=es)\n",
    "pu = PCPosit(162517018002587648, mode='bits', nbits=nbits, es=es)\n",
    "pv = PCPosit(160977650653855744, mode='bits', nbits=nbits, es=es)\n",
    "\n",
    "det = pa*pd - pb*pc;\n",
    "px, py = (pu*pd - pb*pv)/det, (pa*pv - pu*pc)/det\n",
    "posit_to_float(px), posit_to_float(py)"
   ]
  },
  {
   "cell_type": "code",
   "execution_count": null,
   "metadata": {},
   "outputs": [],
   "source": []
  },
  {
   "cell_type": "code",
   "execution_count": null,
   "metadata": {},
   "outputs": [],
   "source": []
  }
 ],
 "metadata": {
  "kernelspec": {
   "display_name": "Python 3",
   "language": "python",
   "name": "python3"
  },
  "language_info": {
   "codemirror_mode": {
    "name": "ipython",
    "version": 3
   },
   "file_extension": ".py",
   "mimetype": "text/x-python",
   "name": "python",
   "nbconvert_exporter": "python",
   "pygments_lexer": "ipython3",
   "version": "3.7.1"
  }
 },
 "nbformat": 4,
 "nbformat_minor": 2
}
