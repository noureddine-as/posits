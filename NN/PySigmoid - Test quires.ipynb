{
 "cells": [
  {
   "cell_type": "code",
   "execution_count": 1,
   "metadata": {},
   "outputs": [],
   "source": [
    "from PySigmoid import *\n",
    "import numpy as np\n",
    "import matplotlib.pyplot as plt"
   ]
  },
  {
   "cell_type": "code",
   "execution_count": 2,
   "metadata": {},
   "outputs": [],
   "source": [
    "set_posit_env(8,0)"
   ]
  },
  {
   "cell_type": "code",
   "execution_count": 3,
   "metadata": {},
   "outputs": [],
   "source": [
    "def posify(x):\n",
    "    if type(x) == np.ndarray:\n",
    "        if len(x.shape) == 1:\n",
    "            return np.array([Posit(y) for y in x])\n",
    "        else:\n",
    "            return np.array([[Posit(z) for z in y] for y in x])\n",
    "    else:\n",
    "        return Posit(x)"
   ]
  },
  {
   "cell_type": "code",
   "execution_count": 109,
   "metadata": {},
   "outputs": [],
   "source": [
    "from functools import reduce\n",
    "import operator\n",
    "\n",
    "# @staticmethod\n",
    "def fused_sum(a):\n",
    "    if all(isinstance(x, Posit) for x in a):\n",
    "        r = reduce(operator.add, map(lambda x: Quire(x), a))\n",
    "        return Posit(r)\n",
    "    else:\n",
    "        raise Exception(\"Argument must be a list of posit\")\n",
    "\n",
    "# @staticmethod\n",
    "def fused_dot_product(a, b):\n",
    "    if all(isinstance(x, Posit) for x in (a + b)):\n",
    "        r = reduce(operator.add, map(lambda x, y: Quire(x) * Quire(y), a,b))\n",
    "        return Posit(r)\n",
    "    else:\n",
    "        raise Exception(\"Arguments must be lists of posit\")\n",
    "        \n",
    "def dot_product(a, b):\n",
    "    if all(isinstance(x, Posit) for x in (a + b)):\n",
    "        r = reduce(operator.add, map(lambda x, y: x * y, a,b))\n",
    "        return r\n",
    "    else:\n",
    "        raise Exception(\"Arguments must be lists of posit\")\n",
    "        \n",
    "def fused_matmult(a, b):\n",
    "    zip_b = zip(*b)\n",
    "    # uncomment next line if python 3 :\n",
    "    zip_b = list(zip_b)\n",
    "    return [[fused_dot_product(row_a, col_b) \n",
    "             for col_b in zip_b] for row_a in a]\n",
    "\n",
    "def matmult(a, b):\n",
    "    zip_b = zip(*b)\n",
    "    # uncomment next line if python 3 :\n",
    "    zip_b = list(zip_b)\n",
    "    return [[dot_product(row_a, col_b) \n",
    "             for col_b in zip_b] for row_a in a]"
   ]
  },
  {
   "cell_type": "code",
   "execution_count": 46,
   "metadata": {
    "scrolled": true
   },
   "outputs": [
    {
     "name": "stdout",
     "output_type": "stream",
     "text": [
      "Fused Multiply-Add: 24  Multiply-Add: 16\n",
      "Fused Multiply-Sub: 16  Multiply-Sub: 12\n"
     ]
    }
   ],
   "source": [
    "# Example showing Fused operations\n",
    "\n",
    "# check that all the operands and the result\n",
    "# are in the environment, but not the mid-result.\n",
    "# for i in range (32):\n",
    "#     print(Posit(i))\n",
    "\n",
    "a = Posit(10)\n",
    "b = Posit(2)\n",
    "c = Posit(4)\n",
    "# Fused Multiply-Add\n",
    "print('Fused Multiply-Add: {}  Multiply-Add: {}'.format(Posit(Quire(c) + Quire(a) * Quire(b)), c + a * b))\n",
    "\n",
    "# Fused Multiply-Sub\n",
    "print('Fused Multiply-Sub: {}  Multiply-Sub: {}'.format(Posit(Quire(a) * Quire(b) - Quire(c)), a * b - c))"
   ]
  },
  {
   "cell_type": "code",
   "execution_count": 47,
   "metadata": {},
   "outputs": [
    {
     "name": "stdout",
     "output_type": "stream",
     "text": [
      "49995000\n",
      "49995000\n",
      "64\n"
     ]
    }
   ],
   "source": [
    "tenthousand = range(10000)\n",
    "\n",
    "q = []\n",
    "result = Quire(0)\n",
    "for i in tenthousand:\n",
    "    q.append(Quire(i))\n",
    "    result += Quire(i)\n",
    "print(sum(tenthousand))\n",
    "print(result)\n",
    "print(Posit(result))\n"
   ]
  },
  {
   "cell_type": "code",
   "execution_count": 43,
   "metadata": {},
   "outputs": [
    {
     "name": "stdout",
     "output_type": "stream",
     "text": [
      "12\n",
      "12\n",
      "10\n"
     ]
    }
   ],
   "source": [
    "# Fused dot product example\n",
    "a = np.array([1, 2, 3])\n",
    "b = np.array([4, -5, 6])\n",
    "print(a.dot(b))\n",
    "print(fused_dot_product(posify(a), posify(b)))\n",
    "print(dot_product(posify(a), posify(b)))"
   ]
  },
  {
   "cell_type": "code",
   "execution_count": 115,
   "metadata": {},
   "outputs": [
    {
     "name": "stdout",
     "output_type": "stream",
     "text": [
      "Correct result:\n",
      "[[  1  -3   4   6]\n",
      " [ -5  35 -10 -10]]\n",
      "Posit Matrix multiplication result:\n",
      "[[1 -2 4 6]\n",
      " [-5 8 -8 -12]]\n",
      "Fused Matrix multiplication result:\n",
      "[[1 -3 4 6]\n",
      " [-5 32 -10 -10]]\n"
     ]
    }
   ],
   "source": [
    "# Matrix multiplication\n",
    "A = np.array([[-1, -2, 2],[4 , 6 , -3]])\n",
    "B = np.array([[1, 5 , 2 , -4],[-2 , 6 , -3 , 3],[-1 , 7 , 0 , 4]])\n",
    "print('Correct result:')\n",
    "print(A.dot(B)) # same as A @ B\n",
    "\n",
    "print('Posit Matrix multiplication result:')\n",
    "print(np.array(matmult(posify(A), posify(B))))\n",
    "print('Fused Matrix multiplication result:')\n",
    "print(np.array(fused_matmult(posify(A), posify(B))))"
   ]
  }
 ],
 "metadata": {
  "kernelspec": {
   "display_name": "Python 3",
   "language": "python",
   "name": "python3"
  },
  "language_info": {
   "codemirror_mode": {
    "name": "ipython",
    "version": 3
   },
   "file_extension": ".py",
   "mimetype": "text/x-python",
   "name": "python",
   "nbconvert_exporter": "python",
   "pygments_lexer": "ipython3",
   "version": "3.7.1"
  }
 },
 "nbformat": 4,
 "nbformat_minor": 2
}
