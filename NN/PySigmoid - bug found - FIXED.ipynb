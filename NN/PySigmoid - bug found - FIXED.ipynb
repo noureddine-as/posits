{
 "cells": [
  {
   "cell_type": "code",
   "execution_count": 1,
   "metadata": {},
   "outputs": [],
   "source": [
    "from PySigmoid import *\n",
    "import numpy as np\n",
    "import matplotlib.pyplot as plt\n",
    "\n",
    "# %matplotlib notebook"
   ]
  },
  {
   "cell_type": "code",
   "execution_count": 19,
   "metadata": {},
   "outputs": [
    {
     "data": {
      "text/plain": [
       "(0.03125, 0.015625)"
      ]
     },
     "execution_count": 19,
     "metadata": {},
     "output_type": "execute_result"
    }
   ],
   "source": [
    "set_posit_env(8,0)\n",
    "Posit(2/64), 1/64"
   ]
  },
  {
   "cell_type": "code",
   "execution_count": 2,
   "metadata": {},
   "outputs": [
    {
     "data": {
      "image/png": "[encoded data removed]",
      "text/plain": [
       "<Figure size 432x288 with 1 Axes>"
      ]
     },
     "metadata": {
      "needs_background": "light"
     },
     "output_type": "display_data"
    }
   ],
   "source": [
    "set_posit_env(8,0)\n",
    "plt.figure()\n",
    "plt.scatter(0,0,marker='.', c='r', linewidths=0.01)\n",
    "for p in np.linspace(-0.05, 0.05, 500):\n",
    "#     print(Posit(p))\n",
    "    plt.scatter(p, Posit(p),marker='.', c='r', linewidths=0.01)\n",
    "\n",
    "plt.axvline(x=1/64)\n",
    "plt.axvline(x=1/(64**2))\n",
    "plt.axvline(x=(1/(64**2)+1/64)/2)\n",
    "plt.axvline(x=-1/64)\n",
    "plt.axvline(x=-1/(64**2))\n",
    "plt.axvline(x=-(1/(64**2)+1/64)/2)\n",
    "plt.grid(True)"
   ]
  },
  {
   "cell_type": "code",
   "execution_count": 9,
   "metadata": {
    "scrolled": true
   },
   "outputs": [
    {
     "data": {
      "image/png": "[encoded data removed]",
      "text/plain": [
       "<Figure size 432x288 with 1 Axes>"
      ]
     },
     "metadata": {
      "needs_background": "light"
     },
     "output_type": "display_data"
    }
   ],
   "source": [
    "set_posit_env(8, 0)\n",
    "for p in np.linspace(-0.05, 0.05, 500):\n",
    "#     print(Posit(p))\n",
    "    plt.scatter(p, Posit(p),marker='.', c='r', linewidths=0.01)\n",
    "# plt.axvline(x=1/64)\n",
    "# plt.axvline(x=1/(64**2))\n",
    "# plt.axvline(x=(1/(64**2)+1/64)/2)\n",
    "# plt.axvline(x=-1/64)\n",
    "# plt.axvline(x=-1/(64**2))\n",
    "# plt.axvline(x=-(1/(64**2)+1/64)/2)\n",
    "plt.scatter(0,0,marker='.', c='r', linewidths=0.01)\n",
    "plt.grid(True)\n",
    "plt.show()"
   ]
  },
  {
   "cell_type": "code",
   "execution_count": 6,
   "metadata": {},
   "outputs": [
    {
     "name": "stdout",
     "output_type": "stream",
     "text": [
      "4580103174960564090\n",
      "0\n",
      "-7\n",
      "8949553179510650\n"
     ]
    }
   ],
   "source": [
    "from ctypes import c_ulonglong, c_double\n",
    "\n",
    "x = 1/(64)-0.0001\n",
    "n = c_ulonglong.from_buffer(c_double(x)).value\n",
    "print(n) # n = 0\n",
    "sign = n >> 63\n",
    "print(sign)\n",
    "# to get exponent bits, remove sign, shift, then subtract bias\n",
    "exponents = ((n & ((1 << 63) - 1)) >> 52) - 1023  \n",
    "print(exponents)\n",
    "# to get fractions bits, mask fraction bits and then OR the hidden bit\n",
    "fraction = (1 << 52) | (n & ((1 << 52) - 1))\n",
    "print(fraction)\n",
    "# self.number = self.construct_posit(sign, exponent, fraction).number"
   ]
  },
  {
   "cell_type": "code",
   "execution_count": 8,
   "metadata": {},
   "outputs": [
    {
     "data": {
      "text/plain": [
       "((0, -6, 0, 1), 0.015625)"
      ]
     },
     "execution_count": 8,
     "metadata": {},
     "output_type": "execute_result"
    }
   ],
   "source": [
    "Posit(x).decode(), Posit(x)"
   ]
  },
  {
   "cell_type": "code",
   "execution_count": 16,
   "metadata": {},
   "outputs": [
    {
     "name": "stdout",
     "output_type": "stream",
     "text": [
      "-7\n",
      "0\n",
      "8\n",
      "underflow\n",
      "0.015625\n"
     ]
    }
   ],
   "source": [
    "# construct_posit(sign, exponent, fraction)\n",
    "scale = exponents\n",
    "n = 0\n",
    "# regime = floor(scale / self.es)\n",
    "regime = scale >> Posit.ES\n",
    "print(regime)\n",
    "# exponent = scale % 2**es \n",
    "exponent = scale & createMask(Posit.ES, 0)\n",
    "print(exponent)\n",
    "# number of bits written for regime\n",
    "regime_length = regime + 2 if regime >= 0 else - regime + 1\n",
    "print(regime_length)\n",
    "# overflow to maxpos underflow to minpos\n",
    "# Check if this is the error with other posits\n",
    "if regime_length >= Posit.NBITS :#+ 1:\n",
    "    print('underflow')\n",
    "    p = Posit(nbits = Posit.NBITS, es = Posit.ES)\n",
    "    p.set_bit_pattern(Posit().maxpos if regime >= 0 else Posit().minpos)\n",
    "    if sign == 1:\n",
    "        p = -p\n",
    "    print(p)"
   ]
  },
  {
   "cell_type": "code",
   "execution_count": 74,
   "metadata": {},
   "outputs": [],
   "source": [
    "def set_float2(x):\n",
    "        '''\n",
    "            Input: Float\n",
    "            Map float to posit\n",
    "            Cases -> Action\n",
    "                (1) negative or positive zero -> return zero posit\n",
    "                (2) +-inf or NaN -> return posit infinity\n",
    "                (3) normal float -> round to nearest representable posit\n",
    "        '''\n",
    "        if type(x) == float:\n",
    "            print('Hi from float!')\n",
    "            # (1) negative or positive zero -> return zero posit \n",
    "            if x == 0:\n",
    "                return Posit().zero\n",
    "            # (2) +-inf or NaN -> return posit infinity\n",
    "            elif isinf(x) or isnan(x):\n",
    "                return Posit().inf\n",
    "            # (3) normal float\n",
    "            else:\n",
    "                # convert to integer\n",
    "                n = Posit().float_to_int(x)\n",
    "                # to get sign bit, shift 63 times to the right\n",
    "                sign = n >> 63\n",
    "                # to get exponent bits, remove sign, shift, then subtract bias\n",
    "                exponent = ((n & ((1 << 63) - 1)) >> 52) - 1023  \n",
    "                # to get fractions bits, mask fraction bits and then OR the hidden bit\n",
    "                fraction = (1 << 52) | (n & ((1 << 52) - 1))\n",
    "                # given the decoded values, construct a posit\n",
    "                return construct_posit2(sign, exponent, fraction).number"
   ]
  },
  {
   "cell_type": "code",
   "execution_count": 75,
   "metadata": {},
   "outputs": [],
   "source": [
    "def construct_posit2(sign, scale, fraction):\n",
    "    print('Hi from construct!')\n",
    "    if fraction == 0:\n",
    "        return Posit(nbits = Posit.NBITS, es = Posit.ES)\n",
    "    n = 0\n",
    "    # regime = floor(scale / self.es)\n",
    "    regime = scale >> Posit.ES\n",
    "    # exponent = scale % 2**es \n",
    "    exponent = scale & createMask(Posit.ES, 0)\n",
    "\n",
    "    # number of bits written for regime\n",
    "    regime_length = regime + 2 if regime >= 0 else - regime + 1\n",
    "\n",
    "    # overflow to maxpos underflow to minpos\n",
    "    if regime_length >= Posit.NBITS:\n",
    "        p = Posit(nbits = Posit.NBITS, es = Posit.ES)\n",
    "        p.set_bit_pattern(Posit().maxpos if regime >= 0 else Posit().minpos)\n",
    "        if sign == 1:\n",
    "            p = -p\n",
    "        return p\n",
    "\n",
    "    # encode regime\n",
    "    if regime >= 0:\n",
    "        n |= createMask(regime_length - 1, Posit.NBITS - regime_length)\n",
    "    elif Posit.NBITS - 1 >= regime_length:\n",
    "        n |= setBit(n, Posit.NBITS - 1 - regime_length)\n",
    "\n",
    "    # count number of bits available for exponent and fraction\n",
    "    exponent_bits = min(Posit.ES, Posit.NBITS - 1 - regime_length)\n",
    "    fraction_bits = Posit.NBITS - 1 - regime_length - exponent_bits\n",
    "\n",
    "    # remove trailing zeroes\n",
    "    fraction = removeTrailingZeroes(fraction)\n",
    "    # length of fraction bits, -1 is for hidden bit\n",
    "    fraction_length = countBits(fraction) - 1\n",
    "    # remove hidden bit\n",
    "    fraction &= 2**(countBits(fraction)-1) - 1\n",
    "\n",
    "    # trailing_bits = number of bits available for exponent + fraction\n",
    "    trailing_bits = Posit.NBITS - 1 - regime_length\n",
    "    # exp_frac = concatenate exponent + fraction without trailing zeroes\n",
    "    exp_frac = removeTrailingZeroes(exponent << (fraction_length) | fraction)\n",
    "\n",
    "    # exp_frac_bits = minimum number of bits needed to represent exp_frac\n",
    "    # exponent only\n",
    "    if fraction_length == 0:\n",
    "        exp_frac_bits = Posit.ES - countTrailingZeroes(exponent)\n",
    "    # exponent plus fraction\n",
    "    else:\n",
    "        exp_frac_bits = Posit.ES + fraction_length\n",
    "\n",
    "    # rounding needs to be done\n",
    "    if trailing_bits < exp_frac_bits:\n",
    "        # get overflow bits\n",
    "        overflown = exp_frac & createMask(exp_frac_bits - trailing_bits, 0)\n",
    "        # truncate trailing bits, encode to number\n",
    "        n |= exp_frac >> (exp_frac_bits - trailing_bits)\n",
    "        # perform round to even rounding by adding last bit to overflown bit\n",
    "        # tie-breaking\n",
    "        if overflown == (1 << (exp_frac_bits - trailing_bits - 1)):\n",
    "            # check last bit\n",
    "            if checkBit(exp_frac, exp_frac_bits - trailing_bits):\n",
    "                n += 1\n",
    "        # round to next higher value\n",
    "        elif overflown > (1 << (exp_frac_bits - trailing_bits - 1)):\n",
    "            n += 1\n",
    "        # round to next lower value\n",
    "        else:\n",
    "            None\n",
    "    else:\n",
    "        n |= exp_frac << (trailing_bits - exp_frac_bits)\n",
    "\n",
    "    p = Posit(nbits = Posit.NBITS, es = Posit.ES)\n",
    "    if sign == 0:\n",
    "        p.set_bit_pattern(n)\n",
    "    else:\n",
    "        p.set_bit_pattern(twosComplement(n, Posit.NBITS))\n",
    "\n",
    "    return p"
   ]
  },
  {
   "cell_type": "code",
   "execution_count": 93,
   "metadata": {},
   "outputs": [
    {
     "name": "stdout",
     "output_type": "stream",
     "text": [
      "Hi from float!\n",
      "Hi from construct!\n",
      "127\n"
     ]
    }
   ],
   "source": [
    "print(set_float2(649999999.))"
   ]
  },
  {
   "cell_type": "code",
   "execution_count": 73,
   "metadata": {},
   "outputs": [
    {
     "data": {
      "text/plain": [
       "0"
      ]
     },
     "execution_count": 73,
     "metadata": {},
     "output_type": "execute_result"
    }
   ],
   "source": [
    "Posit().zero"
   ]
  }
 ],
 "metadata": {
  "kernelspec": {
   "display_name": "Python 3",
   "language": "python",
   "name": "python3"
  },
  "language_info": {
   "codemirror_mode": {
    "name": "ipython",
    "version": 3
   },
   "file_extension": ".py",
   "mimetype": "text/x-python",
   "name": "python",
   "nbconvert_exporter": "python",
   "pygments_lexer": "ipython3",
   "version": "3.7.1"
  }
 },
 "nbformat": 4,
 "nbformat_minor": 2
}
